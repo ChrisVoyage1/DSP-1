{
 "cells": [
  {
   "cell_type": "code",
   "execution_count": null,
   "id": "0f6b99b9-2b88-45df-8a56-6617695ef8da",
   "metadata": {},
   "outputs": [],
   "source": [
    "\n",
    "import numpy as np\n",
    "import matplotlib.pyplot as plt\n",
    "\n",
    "t = np.linspace(0, 10, 100)\n",
    "amp = 5 # Amplitud\n",
    "f = 50\n",
    "x = amp * np.sin(2 * np.pi * f * t)\n"
   ]
  }
 ],
 "metadata": {
  "kernelspec": {
   "display_name": "Python 3 (ipykernel)",
   "language": "python",
   "name": "python3"
  },
  "language_info": {
   "codemirror_mode": {
    "name": "ipython",
    "version": 3
   },
   "file_extension": ".py",
   "mimetype": "text/x-python",
   "name": "python",
   "nbconvert_exporter": "python",
   "pygments_lexer": "ipython3",
   "version": "3.12.7"
  }
 },
 "nbformat": 4,
 "nbformat_minor": 5
}
